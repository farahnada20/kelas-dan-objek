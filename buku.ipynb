{
  "nbformat": 4,
  "nbformat_minor": 0,
  "metadata": {
    "colab": {
      "provenance": [],
      "authorship_tag": "ABX9TyOE7Y7j0NPWVsPhy9LkMGRj",
      "include_colab_link": true
    },
    "kernelspec": {
      "name": "python3",
      "display_name": "Python 3"
    },
    "language_info": {
      "name": "python"
    }
  },
  "cells": [
    {
      "cell_type": "markdown",
      "metadata": {
        "id": "view-in-github",
        "colab_type": "text"
      },
      "source": [
        "<a href=\"https://colab.research.google.com/github/farahnada20/kelas-dan-objek/blob/main/buku.ipynb\" target=\"_parent\"><img src=\"https://colab.research.google.com/assets/colab-badge.svg\" alt=\"Open In Colab\"/></a>"
      ]
    },
    {
      "cell_type": "code",
      "execution_count": 6,
      "metadata": {
        "colab": {
          "base_uri": "https://localhost:8080/"
        },
        "id": "zsz8byHwnNkB",
        "outputId": "07805475-c22f-4c68-e958-8ca1062798c2"
      },
      "outputs": [
        {
          "output_type": "stream",
          "name": "stdout",
          "text": [
            "Buku: Pemrograman Berorientasi Objek, Penulis: nada\n"
          ]
        }
      ],
      "source": [
        "class Buku:\n",
        "    def info_buku(self, judul, penulis):\n",
        "        print(f\"Buku: {judul}, Penulis: {penulis}\")\n",
        "\n",
        "def main():\n",
        "    bk = Buku()\n",
        "    bk.info_buku(\"Pemrograman Berorientasi Objek\", \"nada\")\n",
        "\n",
        "if __name__ == \"__main__\":\n",
        "    main()"
      ]
    }
  ]
}