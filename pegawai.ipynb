{
  "nbformat": 4,
  "nbformat_minor": 0,
  "metadata": {
    "colab": {
      "provenance": [],
      "authorship_tag": "ABX9TyPTPShImU2d9Lt5qIGJSks4",
      "include_colab_link": true
    },
    "kernelspec": {
      "name": "python3",
      "display_name": "Python 3"
    },
    "language_info": {
      "name": "python"
    }
  },
  "cells": [
    {
      "cell_type": "markdown",
      "metadata": {
        "id": "view-in-github",
        "colab_type": "text"
      },
      "source": [
        "<a href=\"https://colab.research.google.com/github/farahnada20/kelas-dan-objek/blob/main/pegawai.ipynb\" target=\"_parent\"><img src=\"https://colab.research.google.com/assets/colab-badge.svg\" alt=\"Open In Colab\"/></a>"
      ]
    },
    {
      "cell_type": "code",
      "execution_count": 1,
      "metadata": {
        "colab": {
          "base_uri": "https://localhost:8080/"
        },
        "id": "zsz8byHwnNkB",
        "outputId": "a8aa3d66-ac9b-46d0-ffbf-3867b4967ad1"
      },
      "outputs": [
        {
          "output_type": "stream",
          "name": "stdout",
          "text": [
            "Pegawai cezzyee memiliki gaji Rp5000000.\n"
          ]
        }
      ],
      "source": [
        "class Pegawai:\n",
        "    def tampilkan_gaji(self, nama, gaji):\n",
        "        print(f\"Pegawai {nama} memiliki gaji Rp{gaji}.\")\n",
        "\n",
        "def main():\n",
        "    pgw = Pegawai()\n",
        "    pgw.tampilkan_gaji(\"cezzyee\", 5000000)\n",
        "\n",
        "if __name__ == \"__main__\":\n",
        "    main()"
      ]
    }
  ]
}