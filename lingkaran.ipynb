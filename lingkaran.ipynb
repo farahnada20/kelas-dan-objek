{
  "nbformat": 4,
  "nbformat_minor": 0,
  "metadata": {
    "colab": {
      "provenance": [],
      "authorship_tag": "ABX9TyM1n7nPCib4O61H17h0wWP2",
      "include_colab_link": true
    },
    "kernelspec": {
      "name": "python3",
      "display_name": "Python 3"
    },
    "language_info": {
      "name": "python"
    }
  },
  "cells": [
    {
      "cell_type": "markdown",
      "metadata": {
        "id": "view-in-github",
        "colab_type": "text"
      },
      "source": [
        "<a href=\"https://colab.research.google.com/github/farahnada20/kelas-dan-objek/blob/main/lingkaran.ipynb\" target=\"_parent\"><img src=\"https://colab.research.google.com/assets/colab-badge.svg\" alt=\"Open In Colab\"/></a>"
      ]
    },
    {
      "cell_type": "code",
      "execution_count": 4,
      "metadata": {
        "colab": {
          "base_uri": "https://localhost:8080/"
        },
        "id": "zsz8byHwnNkB",
        "outputId": "409259d1-7a67-4df2-c646-b083c2c3eb9d"
      },
      "outputs": [
        {
          "output_type": "stream",
          "name": "stdout",
          "text": [
            "Luas lingkaran: 153.86\n"
          ]
        }
      ],
      "source": [
        "class Lingkaran:\n",
        "    def hitung_luas(self, jari_jari):\n",
        "        return 3.14 * jari_jari * jari_jari\n",
        "\n",
        "def main():\n",
        "    blt = Lingkaran()\n",
        "    print(f\"Luas lingkaran: {blt.hitung_luas(7)}\")\n",
        "\n",
        "if __name__ == \"__main__\":\n",
        "    main()"
      ]
    }
  ]
}