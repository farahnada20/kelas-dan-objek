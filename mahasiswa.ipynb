{
  "nbformat": 4,
  "nbformat_minor": 0,
  "metadata": {
    "colab": {
      "provenance": [],
      "authorship_tag": "ABX9TyN/oL/i00qNzqLDwF91b0F6",
      "include_colab_link": true
    },
    "kernelspec": {
      "name": "python3",
      "display_name": "Python 3"
    },
    "language_info": {
      "name": "python"
    }
  },
  "cells": [
    {
      "cell_type": "markdown",
      "metadata": {
        "id": "view-in-github",
        "colab_type": "text"
      },
      "source": [
        "<a href=\"https://colab.research.google.com/github/farahnada20/kelas-dan-objek/blob/main/mahasiswa.ipynb\" target=\"_parent\"><img src=\"https://colab.research.google.com/assets/colab-badge.svg\" alt=\"Open In Colab\"/></a>"
      ]
    },
    {
      "cell_type": "code",
      "execution_count": 5,
      "metadata": {
        "colab": {
          "base_uri": "https://localhost:8080/"
        },
        "id": "zsz8byHwnNkB",
        "outputId": "15434d7a-9695-483f-a7fc-02cb21faa439"
      },
      "outputs": [
        {
          "output_type": "stream",
          "name": "stdout",
          "text": [
            "Mahasiswa Farah Nada dengan NIM 230705231 mencetak KRS.\n"
          ]
        }
      ],
      "source": [
        "class Mahasiswa:\n",
        "    def cetak_krs(self, nama, nim):\n",
        "        print(f\"Mahasiswa {nama} dengan NIM {nim} mencetak KRS.\")\n",
        "\n",
        "def main():\n",
        "    mhs = Mahasiswa()\n",
        "    mhs.cetak_krs(\"Farah Nada\", \"230705231\")\n",
        "\n",
        "if __name__ == \"__main__\":\n",
        "    main()"
      ]
    }
  ]
}