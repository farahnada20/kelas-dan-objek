{
  "nbformat": 4,
  "nbformat_minor": 0,
  "metadata": {
    "colab": {
      "provenance": [],
      "authorship_tag": "ABX9TyPr8uHr5V+JM5gOW5+nRjpa",
      "include_colab_link": true
    },
    "kernelspec": {
      "name": "python3",
      "display_name": "Python 3"
    },
    "language_info": {
      "name": "python"
    }
  },
  "cells": [
    {
      "cell_type": "markdown",
      "metadata": {
        "id": "view-in-github",
        "colab_type": "text"
      },
      "source": [
        "<a href=\"https://colab.research.google.com/github/farahnada20/kelas-dan-objek/blob/main/mobil.ipynb\" target=\"_parent\"><img src=\"https://colab.research.google.com/assets/colab-badge.svg\" alt=\"Open In Colab\"/></a>"
      ]
    },
    {
      "cell_type": "code",
      "execution_count": 2,
      "metadata": {
        "colab": {
          "base_uri": "https://localhost:8080/"
        },
        "id": "zsz8byHwnNkB",
        "outputId": "5b4d8665-34e1-472c-8c44-b780c3c429bb"
      },
      "outputs": [
        {
          "output_type": "stream",
          "name": "stdout",
          "text": [
            "Mesin mobil porsche dinyalakan.\n"
          ]
        }
      ],
      "source": [
        "class Mobil:\n",
        "    def nyalakan_mesin(self, merk):\n",
        "        print(f\"Mesin mobil {merk} dinyalakan.\")\n",
        "\n",
        "def main():\n",
        "    mbl = Mobil()\n",
        "    mbl.nyalakan_mesin(\"porsche\")\n",
        "\n",
        "if __name__ == \"__main__\":\n",
        "    main()"
      ]
    }
  ]
}